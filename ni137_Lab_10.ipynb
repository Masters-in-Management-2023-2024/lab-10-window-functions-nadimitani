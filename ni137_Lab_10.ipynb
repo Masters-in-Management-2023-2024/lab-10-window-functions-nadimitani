{
  "cells": [
    {
      "cell_type": "markdown",
      "metadata": {
        "id": "08XEc2tkLBVo"
      },
      "source": [
        "# OPAN5505 Lab 3 Assignment\n",
        "\n",
        "## Background\n",
        "\n",
        "You've been engaged by the Federal Aviation Administration to perform an analysis on \"strike\" data. A \"strike\" refers to when an aircraft and an object within the air (typically wildlife) collide."
      ]
    },
    {
      "cell_type": "code",
      "source": [
        "import polars as pl\n",
        "\n",
        "strikes = pl.read_csv(\n",
        "    \"https://raw.githubusercontent.com/philhetzel/opan5510-class10/refs/heads/main/data/faa_strikes.txt\",\n",
        "    separator=\"\\t\"\n",
        ")\n",
        "\n",
        "strikes = strikes.with_columns(\n",
        "    pl.col(\"Collision Date and Time\").str.strptime(pl.Datetime)\n",
        ")\n",
        "\n"
      ],
      "metadata": {
        "id": "AgvP3M2IOd2G"
      },
      "execution_count": 17,
      "outputs": []
    },
    {
      "cell_type": "markdown",
      "metadata": {
        "id": "j9JKjCAiLBVq"
      },
      "source": [
        "## Question 1: Running total of strikes by day through 2013\n",
        "\n",
        "You are interested in seeing the running total of strikes over time (`Collision Date and Time`) on a daily basis. Using the `strikes` dataframe, create a new column that removes the time information but keeps the date information from the `Collision Date and Time` column (call this new field `date`). Next, aggregate the `Number of Strikes` by day (call this new field `daily_strikes`). Sort the data in ascending order by `date`. Then, create the running total of `daily_strikes` (name the new field `strikes_cumulative`) and filter to only the records **up to and including** the `date` of 2013-12-31. Name the resulting data frame `running_total_strikes`.\n",
        "\n",
        "*Please place a Python code block and code below. The output should be a DataFrame. You must use a window function to receive credit on this question.*"
      ]
    },
    {
      "cell_type": "code",
      "execution_count": 18,
      "metadata": {
        "colab": {
          "base_uri": "https://localhost:8080/",
          "height": 443
        },
        "id": "mSMDCwTyLBVq",
        "outputId": "4188fa4a-af0f-4802-84b3-cc3bc8d009d3"
      },
      "outputs": [
        {
          "output_type": "execute_result",
          "data": {
            "text/plain": [
              "shape: (4_776, 3)\n",
              "┌────────────┬───────────────┬────────────────────┐\n",
              "│ date       ┆ daily_strikes ┆ strikes_cumulative │\n",
              "│ ---        ┆ ---           ┆ ---                │\n",
              "│ date       ┆ i64           ┆ i64                │\n",
              "╞════════════╪═══════════════╪════════════════════╡\n",
              "│ 2000-01-02 ┆ 1             ┆ 1                  │\n",
              "│ 2000-01-03 ┆ 2             ┆ 3                  │\n",
              "│ 2000-01-05 ┆ 3             ┆ 6                  │\n",
              "│ 2000-01-06 ┆ 1             ┆ 7                  │\n",
              "│ 2000-01-08 ┆ 4             ┆ 11                 │\n",
              "│ …          ┆ …             ┆ …                  │\n",
              "│ 2013-12-27 ┆ 6             ┆ 24096              │\n",
              "│ 2013-12-28 ┆ 1             ┆ 24097              │\n",
              "│ 2013-12-29 ┆ 2             ┆ 24099              │\n",
              "│ 2013-12-30 ┆ 4             ┆ 24103              │\n",
              "│ 2013-12-31 ┆ 6             ┆ 24109              │\n",
              "└────────────┴───────────────┴────────────────────┘"
            ],
            "text/html": [
              "<div><style>\n",
              ".dataframe > thead > tr,\n",
              ".dataframe > tbody > tr {\n",
              "  text-align: right;\n",
              "  white-space: pre-wrap;\n",
              "}\n",
              "</style>\n",
              "<small>shape: (4_776, 3)</small><table border=\"1\" class=\"dataframe\"><thead><tr><th>date</th><th>daily_strikes</th><th>strikes_cumulative</th></tr><tr><td>date</td><td>i64</td><td>i64</td></tr></thead><tbody><tr><td>2000-01-02</td><td>1</td><td>1</td></tr><tr><td>2000-01-03</td><td>2</td><td>3</td></tr><tr><td>2000-01-05</td><td>3</td><td>6</td></tr><tr><td>2000-01-06</td><td>1</td><td>7</td></tr><tr><td>2000-01-08</td><td>4</td><td>11</td></tr><tr><td>&hellip;</td><td>&hellip;</td><td>&hellip;</td></tr><tr><td>2013-12-27</td><td>6</td><td>24096</td></tr><tr><td>2013-12-28</td><td>1</td><td>24097</td></tr><tr><td>2013-12-29</td><td>2</td><td>24099</td></tr><tr><td>2013-12-30</td><td>4</td><td>24103</td></tr><tr><td>2013-12-31</td><td>6</td><td>24109</td></tr></tbody></table></div>"
            ]
          },
          "metadata": {},
          "execution_count": 18
        }
      ],
      "source": [
        "running_total_strikes = (\n",
        "    strikes\n",
        "    .with_columns(\n",
        "\n",
        "        pl.col(\"Collision Date and Time\").dt.date().alias(\"date\")\n",
        "    )\n",
        "    .group_by(\"date\")\n",
        "    .agg(pl.col(\"Number of Strikes\").sum().alias(\"daily_strikes\"))\n",
        "    .sort(\"date\")\n",
        "\n",
        "    .with_columns(pl.lit(1).alias(\"_all\"))\n",
        "    .with_columns(\n",
        "        pl.col(\"daily_strikes\").cum_sum().over(\"_all\").alias(\"strikes_cumulative\")\n",
        "    )\n",
        "    .drop(\"_all\")\n",
        "    .filter(pl.col(\"date\") <= pl.lit(\"2013-12-31\").str.strptime(pl.Date))\n",
        ")\n",
        "\n",
        "running_total_strikes"
      ]
    },
    {
      "cell_type": "markdown",
      "metadata": {
        "id": "nGwFCWdTLBVq"
      },
      "source": [
        "## Question 2: States with the third highest financial cost\n",
        "\n",
        "The FAA is interested in the financial cost of strikes for each `Origin State`. Using the `strikes` dataframe: first, sum `Cost: Total $` by `Origin State` (name the resulting column `damage`) then `rank` these states in order of which state had the most financial `damage` (name the new column with rank information, `ranking`). Next, filter to show the row with the third highest `ranking`. Use a window function to answer this question. Name the resulting dataframe `damage_state`.\n",
        "\n",
        "*Please place a Python code block and code below. The output should be a DataFrame. You must use a window function to receive credit on this question.*"
      ]
    },
    {
      "cell_type": "code",
      "execution_count": 19,
      "metadata": {
        "colab": {
          "base_uri": "https://localhost:8080/",
          "height": 129
        },
        "id": "gHgU8DuYLBVr",
        "outputId": "7b8e238a-981d-4e6c-bac4-a7aa3d06e241"
      },
      "outputs": [
        {
          "output_type": "execute_result",
          "data": {
            "text/plain": [
              "shape: (1, 3)\n",
              "┌──────────────┬──────────┬─────────┐\n",
              "│ Origin State ┆ damage   ┆ ranking │\n",
              "│ ---          ┆ ---      ┆ ---     │\n",
              "│ str          ┆ i64      ┆ u32     │\n",
              "╞══════════════╪══════════╪═════════╡\n",
              "│ California   ┆ 29671432 ┆ 3       │\n",
              "└──────────────┴──────────┴─────────┘"
            ],
            "text/html": [
              "<div><style>\n",
              ".dataframe > thead > tr,\n",
              ".dataframe > tbody > tr {\n",
              "  text-align: right;\n",
              "  white-space: pre-wrap;\n",
              "}\n",
              "</style>\n",
              "<small>shape: (1, 3)</small><table border=\"1\" class=\"dataframe\"><thead><tr><th>Origin State</th><th>damage</th><th>ranking</th></tr><tr><td>str</td><td>i64</td><td>u32</td></tr></thead><tbody><tr><td>&quot;California&quot;</td><td>29671432</td><td>3</td></tr></tbody></table></div>"
            ]
          },
          "metadata": {},
          "execution_count": 19
        }
      ],
      "source": [
        "damage_state = (\n",
        "    strikes\n",
        "    .group_by(\"Origin State\")\n",
        "    .agg(pl.col(\"Cost: Total $\").sum().alias(\"damage\"))\n",
        "    .with_columns(\n",
        "        pl.col(\"damage\")\n",
        "        .rank(method=\"dense\", descending=True)\n",
        "        .alias(\"ranking\")\n",
        "    )\n",
        "    .filter(pl.col(\"ranking\") == 3)\n",
        ")\n",
        "\n",
        "damage_state\n"
      ]
    },
    {
      "cell_type": "markdown",
      "metadata": {
        "id": "bbjKL_fOLBVr"
      },
      "source": [
        "## Question 3: What are the second costliest Species Groups for each Aircraft Type?\n",
        "\n",
        "The FAA wants to know if some species groups are more dangerous to particular types of aircraft. Using the `strikes` dataframe: first, sum financial damage (`Cost: Total $`) information by `Aircraft: Type` and `Wildlife: Species Group` (name the new field `damage`). Rank the rows within each `Aircraft: Type` based on the greatest amount of `damage`; when performing the ranking function, name the new column `ranking`. Return the rows that represent the `Wildlife: Species Group` values that caused the **second most** financial `damage` to each `Aircraft: Type`. Name the resulting dataframe `type_species`.\n",
        "\n",
        "*Please place a Python code block and code below. The output should be a DataFrame. You must use a ranking function to receive credit on this question.*"
      ]
    },
    {
      "cell_type": "code",
      "execution_count": 21,
      "metadata": {
        "colab": {
          "base_uri": "https://localhost:8080/",
          "height": 160
        },
        "id": "cEFHDa1_LBVr",
        "outputId": "105df4f0-04ef-47f5-d891-b3af1f3a751e"
      },
      "outputs": [
        {
          "output_type": "execute_result",
          "data": {
            "text/plain": [
              "shape: (2, 4)\n",
              "┌────────────────┬─────────────────────────┬──────────┬─────────┐\n",
              "│ Aircraft: Type ┆ Wildlife: Species Group ┆ damage   ┆ ranking │\n",
              "│ ---            ┆ ---                     ┆ ---      ┆ ---     │\n",
              "│ str            ┆ str                     ┆ i64      ┆ u32     │\n",
              "╞════════════════╪═════════════════════════╪══════════╪═════════╡\n",
              "│ Airplane       ┆ Kites, Hawks, Eagles    ┆ 48989287 ┆ 2       │\n",
              "│ Helicopter     ┆ Vultures                ┆ 116748   ┆ 2       │\n",
              "└────────────────┴─────────────────────────┴──────────┴─────────┘"
            ],
            "text/html": [
              "<div><style>\n",
              ".dataframe > thead > tr,\n",
              ".dataframe > tbody > tr {\n",
              "  text-align: right;\n",
              "  white-space: pre-wrap;\n",
              "}\n",
              "</style>\n",
              "<small>shape: (2, 4)</small><table border=\"1\" class=\"dataframe\"><thead><tr><th>Aircraft: Type</th><th>Wildlife: Species Group</th><th>damage</th><th>ranking</th></tr><tr><td>str</td><td>str</td><td>i64</td><td>u32</td></tr></thead><tbody><tr><td>&quot;Airplane&quot;</td><td>&quot;Kites, Hawks, Eagles&quot;</td><td>48989287</td><td>2</td></tr><tr><td>&quot;Helicopter&quot;</td><td>&quot;Vultures&quot;</td><td>116748</td><td>2</td></tr></tbody></table></div>"
            ]
          },
          "metadata": {},
          "execution_count": 21
        }
      ],
      "source": [
        "type_species = (\n",
        "    strikes\n",
        "    .filter(\n",
        "        pl.col(\"Aircraft: Type\").is_not_null() &\n",
        "        pl.col(\"Wildlife: Species Group\").is_not_null() &\n",
        "        (pl.col(\"Aircraft: Type\") != \"NA\")\n",
        "    )\n",
        "    .group_by([\"Aircraft: Type\", \"Wildlife: Species Group\"])\n",
        "    .agg(pl.col(\"Cost: Total $\").sum().alias(\"damage\"))\n",
        "    .with_columns(\n",
        "        pl.col(\"damage\")\n",
        "        .rank(method=\"dense\", descending=True)\n",
        "        .over(\"Aircraft: Type\")\n",
        "        .alias(\"ranking\")\n",
        "    )\n",
        "    .filter(pl.col(\"ranking\") == 2)\n",
        "    .sort(\"Aircraft: Type\")\n",
        ")\n",
        "\n",
        "type_species\n"
      ]
    },
    {
      "cell_type": "markdown",
      "metadata": {
        "id": "vDkHWhSRLBVr"
      },
      "source": [
        "## Question 4: Which days had the greatest positive jump in strikes?\n",
        "\n",
        "The FAA wants to investigate which days had the largest increase in strikes from the previous day. Using the `strikes` dataframe: sum the `Number of Strikes` measure by day (note: not by day and time). You can use a similar technique from Question 1 to create a new column from `Collision Date and Time` without time information and with date information (name this column `date`). Next, compute the previous day's strikes using a window function (name the new column `previous_day`), and calculate the difference of strikes between the current day and the previous day (name the new column `delta_strikes`). Sort the resulting data by `delta_strikes` in descending order to find which days had the highest increase of strikes from the previous day. Name the resulting dataframe `greatest_strike_increase`.\n",
        "\n",
        "**Hint:** This code is more involved that other exercises, so I will explicitly name the steps to answer the question.\n",
        "\n",
        "1. Start with the `strikes` data frame\n",
        "2. Create a new column called `date` which removes the time information in the `Collision Date and Time` column\n",
        "3. Sum the `Number of Strikes` by `date`, and name the new column `daily_strikes`\n",
        "4. Sort by the `date` column in ascending order\n",
        "5. Create a new column called `previous_day` to calculate what the `daily_strikes` were in the previous day\n",
        "6. Create a new column called `delta_strikes` which subtracts `previous_day` from `daily_strikes`\n",
        "7. Sort in descending order by `delta_strikes`\n",
        "\n",
        "*Please place a Python code block and code below. The output should be a DataFrame. You must use a window function to receive credit on this question.*"
      ]
    },
    {
      "cell_type": "code",
      "execution_count": 29,
      "metadata": {
        "colab": {
          "base_uri": "https://localhost:8080/",
          "height": 443
        },
        "id": "Hhf6i3lrLBVr",
        "outputId": "be260dad-8998-4bc7-cbbc-ca774c9515cb"
      },
      "outputs": [
        {
          "output_type": "execute_result",
          "data": {
            "text/plain": [
              "shape: (2_222, 4)\n",
              "┌────────────┬───────────────┬──────────────┬───────────────┐\n",
              "│ date       ┆ daily_strikes ┆ previous_day ┆ delta_strikes │\n",
              "│ ---        ┆ ---           ┆ ---          ┆ ---           │\n",
              "│ date       ┆ i64           ┆ i64          ┆ i64           │\n",
              "╞════════════╪═══════════════╪══════════════╪═══════════════╡\n",
              "│ 2010-10-29 ┆ 25            ┆ 7            ┆ 18            │\n",
              "│ 2014-08-25 ┆ 25            ┆ 8            ┆ 17            │\n",
              "│ 2012-06-28 ┆ 21            ┆ 5            ┆ 16            │\n",
              "│ 2009-07-07 ┆ 21            ┆ 7            ┆ 14            │\n",
              "│ 2013-11-04 ┆ 22            ┆ 8            ┆ 14            │\n",
              "│ …          ┆ …             ┆ …            ┆ …             │\n",
              "│ 2015-05-09 ┆ 11            ┆ 10           ┆ 1             │\n",
              "│ 2015-05-18 ┆ 8             ┆ 7            ┆ 1             │\n",
              "│ 2015-05-21 ┆ 10            ┆ 9            ┆ 1             │\n",
              "│ 2015-05-24 ┆ 10            ┆ 9            ┆ 1             │\n",
              "│ 2015-05-31 ┆ 6             ┆ 5            ┆ 1             │\n",
              "└────────────┴───────────────┴──────────────┴───────────────┘"
            ],
            "text/html": [
              "<div><style>\n",
              ".dataframe > thead > tr,\n",
              ".dataframe > tbody > tr {\n",
              "  text-align: right;\n",
              "  white-space: pre-wrap;\n",
              "}\n",
              "</style>\n",
              "<small>shape: (2_222, 4)</small><table border=\"1\" class=\"dataframe\"><thead><tr><th>date</th><th>daily_strikes</th><th>previous_day</th><th>delta_strikes</th></tr><tr><td>date</td><td>i64</td><td>i64</td><td>i64</td></tr></thead><tbody><tr><td>2010-10-29</td><td>25</td><td>7</td><td>18</td></tr><tr><td>2014-08-25</td><td>25</td><td>8</td><td>17</td></tr><tr><td>2012-06-28</td><td>21</td><td>5</td><td>16</td></tr><tr><td>2009-07-07</td><td>21</td><td>7</td><td>14</td></tr><tr><td>2013-11-04</td><td>22</td><td>8</td><td>14</td></tr><tr><td>&hellip;</td><td>&hellip;</td><td>&hellip;</td><td>&hellip;</td></tr><tr><td>2015-05-09</td><td>11</td><td>10</td><td>1</td></tr><tr><td>2015-05-18</td><td>8</td><td>7</td><td>1</td></tr><tr><td>2015-05-21</td><td>10</td><td>9</td><td>1</td></tr><tr><td>2015-05-24</td><td>10</td><td>9</td><td>1</td></tr><tr><td>2015-05-31</td><td>6</td><td>5</td><td>1</td></tr></tbody></table></div>"
            ]
          },
          "metadata": {},
          "execution_count": 29
        }
      ],
      "source": [
        "greatest_strike_increase = (\n",
        "    strikes\n",
        "    .with_columns(\n",
        "        pl.col(\"Collision Date and Time\").cast(pl.Date).alias(\"date\")\n",
        "    )\n",
        "    .group_by(\"date\").agg(pl.col(\"Number of Strikes\").sum().alias(\"daily_strikes\"))\n",
        "    .sort(\"date\")\n",
        "    .with_columns(pl.lit(1).alias(\"_all\"))\n",
        "    .with_columns(\n",
        "        pl.col(\"daily_strikes\").shift(1).over(\"_all\").alias(\"previous_day\")\n",
        "    )\n",
        "    .drop(\"_all\")\n",
        "    .with_columns((pl.col(\"daily_strikes\") - pl.col(\"previous_day\")).alias(\"delta_strikes\"))\n",
        "    .filter(pl.col(\"delta_strikes\").is_not_null() & (pl.col(\"delta_strikes\") > 0))\n",
        "    .sort(\"delta_strikes\", descending=True)\n",
        ")\n",
        "\n",
        "\n",
        "greatest_strike_increase"
      ]
    },
    {
      "cell_type": "markdown",
      "metadata": {
        "id": "RoRqMkjXLBVr"
      },
      "source": [
        "## Question 5: Which single day had the greatest increase in strikes for each `Aircraft: Type`?\n",
        "\n",
        "FAA was interested in the exercise from the last question but now wants to determine the largest delta between days for each `Aircraft: Type`. What are the days that had largest positive change in strikes for each `Aircraft: Type`? In order to answer this question, you will need to perform the exercise from Question 4, but this time include a grouping by `Aircraft: Type`. After grouping by `Aircraft: Type`, add a column called `ranking` and use a window function to determine the day with the largest increase in strikes from the previous day. Name the resulting data frame `greatest_strike_increase_type`\n",
        "\n",
        "NOTE: Helicopters are not struck with a high frequency and will not show up in your analysis; this is fine."
      ]
    },
    {
      "cell_type": "code",
      "execution_count": 31,
      "metadata": {
        "colab": {
          "base_uri": "https://localhost:8080/",
          "height": 254
        },
        "id": "8wX8PnzqLBVr",
        "outputId": "778a257f-99ae-425f-8f43-297de7b46c6f"
      },
      "outputs": [
        {
          "output_type": "execute_result",
          "data": {
            "text/plain": [
              "shape: (5, 6)\n",
              "┌────────────────┬────────────┬───────────────┬──────────────┬───────────────┬─────────┐\n",
              "│ Aircraft: Type ┆ date       ┆ daily_strikes ┆ previous_day ┆ delta_strikes ┆ ranking │\n",
              "│ ---            ┆ ---        ┆ ---           ┆ ---          ┆ ---           ┆ ---     │\n",
              "│ str            ┆ date       ┆ i64           ┆ i64          ┆ i64           ┆ u32     │\n",
              "╞════════════════╪════════════╪═══════════════╪══════════════╪═══════════════╪═════════╡\n",
              "│ Airplane       ┆ 2014-08-25 ┆ 25            ┆ 8            ┆ 17            ┆ 1       │\n",
              "│ Helicopter     ┆ 2010-07-21 ┆ 2             ┆ 1            ┆ 1             ┆ 1       │\n",
              "│ Helicopter     ┆ 2012-11-02 ┆ 2             ┆ 1            ┆ 1             ┆ 1       │\n",
              "│ Helicopter     ┆ 2013-10-28 ┆ 2             ┆ 1            ┆ 1             ┆ 1       │\n",
              "│ Helicopter     ┆ 2014-08-14 ┆ 2             ┆ 1            ┆ 1             ┆ 1       │\n",
              "└────────────────┴────────────┴───────────────┴──────────────┴───────────────┴─────────┘"
            ],
            "text/html": [
              "<div><style>\n",
              ".dataframe > thead > tr,\n",
              ".dataframe > tbody > tr {\n",
              "  text-align: right;\n",
              "  white-space: pre-wrap;\n",
              "}\n",
              "</style>\n",
              "<small>shape: (5, 6)</small><table border=\"1\" class=\"dataframe\"><thead><tr><th>Aircraft: Type</th><th>date</th><th>daily_strikes</th><th>previous_day</th><th>delta_strikes</th><th>ranking</th></tr><tr><td>str</td><td>date</td><td>i64</td><td>i64</td><td>i64</td><td>u32</td></tr></thead><tbody><tr><td>&quot;Airplane&quot;</td><td>2014-08-25</td><td>25</td><td>8</td><td>17</td><td>1</td></tr><tr><td>&quot;Helicopter&quot;</td><td>2010-07-21</td><td>2</td><td>1</td><td>1</td><td>1</td></tr><tr><td>&quot;Helicopter&quot;</td><td>2012-11-02</td><td>2</td><td>1</td><td>1</td><td>1</td></tr><tr><td>&quot;Helicopter&quot;</td><td>2013-10-28</td><td>2</td><td>1</td><td>1</td><td>1</td></tr><tr><td>&quot;Helicopter&quot;</td><td>2014-08-14</td><td>2</td><td>1</td><td>1</td><td>1</td></tr></tbody></table></div>"
            ]
          },
          "metadata": {},
          "execution_count": 31
        }
      ],
      "source": [
        "greatest_strike_increase_type = (\n",
        "    strikes\n",
        "    .with_columns(\n",
        "        pl.col(\"Collision Date and Time\").cast(pl.Date).alias(\"date\")\n",
        "    )\n",
        "    .filter(pl.col(\"Aircraft: Type\").is_not_null() & (pl.col(\"Aircraft: Type\") != \"NA\"))\n",
        "    .group_by([\"Aircraft: Type\", \"date\"])\n",
        "    .agg(pl.col(\"Number of Strikes\").sum().alias(\"daily_strikes\"))\n",
        "    .sort([\"Aircraft: Type\", \"date\"])\n",
        "    .with_columns(\n",
        "        pl.col(\"daily_strikes\")\n",
        "        .shift(1)\n",
        "        .over(\"Aircraft: Type\")\n",
        "        .alias(\"previous_day\")\n",
        "    )\n",
        "    .with_columns(\n",
        "        (pl.col(\"daily_strikes\") - pl.col(\"previous_day\")).alias(\"delta_strikes\")\n",
        "    )\n",
        "    .filter(pl.col(\"delta_strikes\").is_not_null() & (pl.col(\"delta_strikes\") > 0))\n",
        "    .with_columns(\n",
        "        pl.col(\"delta_strikes\")\n",
        "        .rank(method=\"dense\", descending=True)\n",
        "        .over(\"Aircraft: Type\")\n",
        "        .alias(\"ranking\")\n",
        "    )\n",
        "    .filter(pl.col(\"ranking\") == 1)\n",
        "    .sort(\"Aircraft: Type\")\n",
        ")\n",
        "\n",
        "greatest_strike_increase_type"
      ]
    }
  ],
  "metadata": {
    "kernelspec": {
      "display_name": "Python 3",
      "language": "python",
      "name": "python3"
    },
    "language_info": {
      "codemirror_mode": {
        "name": "ipython",
        "version": 3
      },
      "file_extension": ".py",
      "mimetype": "text/x-python",
      "name": "python",
      "nbconvert_exporter": "python",
      "pygments_lexer": "ipython3",
      "version": "3.8.0"
    },
    "colab": {
      "provenance": []
    }
  },
  "nbformat": 4,
  "nbformat_minor": 0
}